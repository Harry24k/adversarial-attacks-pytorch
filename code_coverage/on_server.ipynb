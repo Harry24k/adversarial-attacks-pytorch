{
 "cells": [
  {
   "cell_type": "code",
   "execution_count": 1,
   "id": "b108498a",
   "metadata": {},
   "outputs": [
    {
     "name": "stderr",
     "output_type": "stream",
     "text": [
      "/home/prasse/Shashank_Projects/adversarial-attacks-pytorch/code_coverage/test_atks.py:8: TqdmExperimentalWarning: Using `tqdm.autonotebook.tqdm` in notebook mode. Use `tqdm.tqdm` instead to force console mode (e.g. in jupyter console)\n",
      "  from tqdm.autonotebook import tqdm\n"
     ]
    }
   ],
   "source": [
    "from test_atks import test_atks_on_cifar10, test_atks_on_cifar100, test_atks_on_imagenet1k\n",
    "from test_import import test_import_version"
   ]
  },
  {
   "cell_type": "code",
   "execution_count": 2,
   "id": "3d08de15",
   "metadata": {},
   "outputs": [
    {
     "name": "stdout",
     "output_type": "stream",
     "text": [
      "3.4.1\n"
     ]
    }
   ],
   "source": [
    "test_import_version()"
   ]
  },
  {
   "cell_type": "code",
   "execution_count": 3,
   "id": "2fd7a267",
   "metadata": {},
   "outputs": [],
   "source": [
    "import torchattacks"
   ]
  },
  {
   "cell_type": "code",
   "execution_count": 4,
   "id": "aea26465",
   "metadata": {
    "scrolled": false
   },
   "outputs": [
    {
     "name": "stdout",
     "output_type": "stream",
     "text": [
      "*************************************              IMAGENET-1k              *************************************\n"
     ]
    },
    {
     "data": {
      "application/json": {
       "ascii": false,
       "bar_format": null,
       "colour": null,
       "elapsed": 0.00503087043762207,
       "initial": 0,
       "n": 0,
       "ncols": null,
       "nrows": 22,
       "postfix": null,
       "prefix": "",
       "rate": null,
       "total": 40,
       "unit": "batch",
       "unit_divisor": 1000,
       "unit_scale": false
      },
      "application/vnd.jupyter.widget-view+json": {
       "model_id": "eb02d676807a493988957bf5e4224934",
       "version_major": 2,
       "version_minor": 0
      },
      "text/plain": [
       "  0%|          | 0/40 [00:00<?, ?batch/s]"
      ]
     },
     "metadata": {},
     "output_type": "display_data"
    },
    {
     "data": {
      "application/json": {
       "ascii": false,
       "bar_format": null,
       "colour": null,
       "elapsed": 0.0034792423248291016,
       "initial": 0,
       "n": 0,
       "ncols": null,
       "nrows": 22,
       "postfix": null,
       "prefix": "convnext_tiny_VANILA",
       "rate": null,
       "total": 40,
       "unit": "batch",
       "unit_divisor": 1000,
       "unit_scale": false
      },
      "application/vnd.jupyter.widget-view+json": {
       "model_id": "a5393f788c124a9a979e2fdec2454622",
       "version_major": 2,
       "version_minor": 0
      },
      "text/plain": [
       "convnext_tiny_VANILA:   0%|          | 0/40 [00:00<?, ?batch/s]"
      ]
     },
     "metadata": {},
     "output_type": "display_data"
    },
    {
     "name": "stdout",
     "output_type": "stream",
     "text": [
      "VANILA      : clean_acc=0.8148 robust_acc=0.8148 sec=5.7115\n"
     ]
    },
    {
     "data": {
      "application/json": {
       "ascii": false,
       "bar_format": null,
       "colour": null,
       "elapsed": 0.003679990768432617,
       "initial": 0,
       "n": 0,
       "ncols": null,
       "nrows": 22,
       "postfix": null,
       "prefix": "convnext_tiny_GN",
       "rate": null,
       "total": 40,
       "unit": "batch",
       "unit_divisor": 1000,
       "unit_scale": false
      },
      "application/vnd.jupyter.widget-view+json": {
       "model_id": "02b9c5efe4f34f6283863fda658278ec",
       "version_major": 2,
       "version_minor": 0
      },
      "text/plain": [
       "convnext_tiny_GN:   0%|          | 0/40 [00:00<?, ?batch/s]"
      ]
     },
     "metadata": {},
     "output_type": "display_data"
    },
    {
     "name": "stdout",
     "output_type": "stream",
     "text": [
      "GN          : clean_acc=0.8148 robust_acc=0.7414 sec=5.6742\n"
     ]
    },
    {
     "data": {
      "application/json": {
       "ascii": false,
       "bar_format": null,
       "colour": null,
       "elapsed": 0.003574371337890625,
       "initial": 0,
       "n": 0,
       "ncols": null,
       "nrows": 22,
       "postfix": null,
       "prefix": "convnext_tiny_FGSM",
       "rate": null,
       "total": 40,
       "unit": "batch",
       "unit_divisor": 1000,
       "unit_scale": false
      },
      "application/vnd.jupyter.widget-view+json": {
       "model_id": "f1ce931188244fa5ad643e97537d062a",
       "version_major": 2,
       "version_minor": 0
      },
      "text/plain": [
       "convnext_tiny_FGSM:   0%|          | 0/40 [00:00<?, ?batch/s]"
      ]
     },
     "metadata": {},
     "output_type": "display_data"
    },
    {
     "name": "stdout",
     "output_type": "stream",
     "text": [
      "FGSM        : clean_acc=0.8148 robust_acc=0.3105 sec=10.5411\n"
     ]
    },
    {
     "data": {
      "application/json": {
       "ascii": false,
       "bar_format": null,
       "colour": null,
       "elapsed": 0.003283262252807617,
       "initial": 0,
       "n": 0,
       "ncols": null,
       "nrows": 22,
       "postfix": null,
       "prefix": "convnext_tiny_FGSM",
       "rate": null,
       "total": 40,
       "unit": "batch",
       "unit_divisor": 1000,
       "unit_scale": false
      },
      "application/vnd.jupyter.widget-view+json": {
       "model_id": "fd83758c7bdc440ea8a0d3a1569365f8",
       "version_major": 2,
       "version_minor": 0
      },
      "text/plain": [
       "convnext_tiny_FGSM:   0%|          | 0/40 [00:00<?, ?batch/s]"
      ]
     },
     "metadata": {},
     "output_type": "display_data"
    },
    {
     "name": "stdout",
     "output_type": "stream",
     "text": [
      "- targeted  : clean_acc=0.8148 robust_acc=0.4688 sec=51.8504\n"
     ]
    },
    {
     "data": {
      "application/json": {
       "ascii": false,
       "bar_format": null,
       "colour": null,
       "elapsed": 0.0036706924438476562,
       "initial": 0,
       "n": 0,
       "ncols": null,
       "nrows": 22,
       "postfix": null,
       "prefix": "convnext_tiny_BIM",
       "rate": null,
       "total": 40,
       "unit": "batch",
       "unit_divisor": 1000,
       "unit_scale": false
      },
      "application/vnd.jupyter.widget-view+json": {
       "model_id": "8a326132c1244c9db1ef70119dec81cf",
       "version_major": 2,
       "version_minor": 0
      },
      "text/plain": [
       "convnext_tiny_BIM:   0%|          | 0/40 [00:00<?, ?batch/s]"
      ]
     },
     "metadata": {},
     "output_type": "display_data"
    },
    {
     "name": "stdout",
     "output_type": "stream",
     "text": [
      "BIM         : clean_acc=0.8148 robust_acc=0.0076 sec=55.8343\n"
     ]
    },
    {
     "data": {
      "application/json": {
       "ascii": false,
       "bar_format": null,
       "colour": null,
       "elapsed": 0.003255605697631836,
       "initial": 0,
       "n": 0,
       "ncols": null,
       "nrows": 22,
       "postfix": null,
       "prefix": "convnext_tiny_BIM",
       "rate": null,
       "total": 40,
       "unit": "batch",
       "unit_divisor": 1000,
       "unit_scale": false
      },
      "application/vnd.jupyter.widget-view+json": {
       "model_id": "4dab13ef91614042b78a7a7136ca767f",
       "version_major": 2,
       "version_minor": 0
      },
      "text/plain": [
       "convnext_tiny_BIM:   0%|          | 0/40 [00:00<?, ?batch/s]"
      ]
     },
     "metadata": {},
     "output_type": "display_data"
    },
    {
     "name": "stdout",
     "output_type": "stream",
     "text": [
      "- targeted  : clean_acc=0.8148 robust_acc=0.2619 sec=141.7860\n"
     ]
    },
    {
     "data": {
      "application/json": {
       "ascii": false,
       "bar_format": null,
       "colour": null,
       "elapsed": 0.0037186145782470703,
       "initial": 0,
       "n": 0,
       "ncols": null,
       "nrows": 22,
       "postfix": null,
       "prefix": "convnext_tiny_RFGSM",
       "rate": null,
       "total": 40,
       "unit": "batch",
       "unit_divisor": 1000,
       "unit_scale": false
      },
      "application/vnd.jupyter.widget-view+json": {
       "model_id": "b01fd43fb50b46128eae30eef0ab1486",
       "version_major": 2,
       "version_minor": 0
      },
      "text/plain": [
       "convnext_tiny_RFGSM:   0%|          | 0/40 [00:00<?, ?batch/s]"
      ]
     },
     "metadata": {},
     "output_type": "display_data"
    },
    {
     "name": "stdout",
     "output_type": "stream",
     "text": [
      "RFGSM       : clean_acc=0.8148 robust_acc=0.0084 sec=54.9663\n"
     ]
    },
    {
     "data": {
      "application/json": {
       "ascii": false,
       "bar_format": null,
       "colour": null,
       "elapsed": 0.0034377574920654297,
       "initial": 0,
       "n": 0,
       "ncols": null,
       "nrows": 22,
       "postfix": null,
       "prefix": "convnext_tiny_RFGSM",
       "rate": null,
       "total": 40,
       "unit": "batch",
       "unit_divisor": 1000,
       "unit_scale": false
      },
      "application/vnd.jupyter.widget-view+json": {
       "model_id": "f0ee3b24ce2d4f0380d362ca8a8a6e17",
       "version_major": 2,
       "version_minor": 0
      },
      "text/plain": [
       "convnext_tiny_RFGSM:   0%|          | 0/40 [00:00<?, ?batch/s]"
      ]
     },
     "metadata": {},
     "output_type": "display_data"
    },
    {
     "name": "stdout",
     "output_type": "stream",
     "text": [
      "- targeted  : clean_acc=0.8148 robust_acc=0.2361 sec=138.6787\n"
     ]
    },
    {
     "data": {
      "application/json": {
       "ascii": false,
       "bar_format": null,
       "colour": null,
       "elapsed": 0.0037331581115722656,
       "initial": 0,
       "n": 0,
       "ncols": null,
       "nrows": 22,
       "postfix": null,
       "prefix": "convnext_tiny_PGD",
       "rate": null,
       "total": 40,
       "unit": "batch",
       "unit_divisor": 1000,
       "unit_scale": false
      },
      "application/vnd.jupyter.widget-view+json": {
       "model_id": "36de08f3d19a4f598faaea76da5138e7",
       "version_major": 2,
       "version_minor": 0
      },
      "text/plain": [
       "convnext_tiny_PGD:   0%|          | 0/40 [00:00<?, ?batch/s]"
      ]
     },
     "metadata": {},
     "output_type": "display_data"
    },
    {
     "name": "stdout",
     "output_type": "stream",
     "text": [
      "PGD         : clean_acc=0.8148 robust_acc=0.0092 sec=54.7968\n"
     ]
    },
    {
     "data": {
      "application/json": {
       "ascii": false,
       "bar_format": null,
       "colour": null,
       "elapsed": 0.0032813549041748047,
       "initial": 0,
       "n": 0,
       "ncols": null,
       "nrows": 22,
       "postfix": null,
       "prefix": "convnext_tiny_PGD",
       "rate": null,
       "total": 40,
       "unit": "batch",
       "unit_divisor": 1000,
       "unit_scale": false
      },
      "application/vnd.jupyter.widget-view+json": {
       "model_id": "caff526c1eb3411ca462f00d201a7639",
       "version_major": 2,
       "version_minor": 0
      },
      "text/plain": [
       "convnext_tiny_PGD:   0%|          | 0/40 [00:00<?, ?batch/s]"
      ]
     },
     "metadata": {},
     "output_type": "display_data"
    },
    {
     "name": "stdout",
     "output_type": "stream",
     "text": [
      "- targeted  : clean_acc=0.8148 robust_acc=0.2605 sec=138.8668\n"
     ]
    },
    {
     "data": {
      "application/json": {
       "ascii": false,
       "bar_format": null,
       "colour": null,
       "elapsed": 0.0038080215454101562,
       "initial": 0,
       "n": 0,
       "ncols": null,
       "nrows": 22,
       "postfix": null,
       "prefix": "convnext_tiny_CosPGD",
       "rate": null,
       "total": 40,
       "unit": "batch",
       "unit_divisor": 1000,
       "unit_scale": false
      },
      "application/vnd.jupyter.widget-view+json": {
       "model_id": "50c4d8ec52104bd3b0487392de94742b",
       "version_major": 2,
       "version_minor": 0
      },
      "text/plain": [
       "convnext_tiny_CosPGD:   0%|          | 0/40 [00:00<?, ?batch/s]"
      ]
     },
     "metadata": {},
     "output_type": "display_data"
    },
    {
     "name": "stdout",
     "output_type": "stream",
     "text": [
      "CosPGD      : clean_acc=0.8148 robust_acc=0.0000 sec=55.0754\n"
     ]
    },
    {
     "data": {
      "application/json": {
       "ascii": false,
       "bar_format": null,
       "colour": null,
       "elapsed": 0.003271818161010742,
       "initial": 0,
       "n": 0,
       "ncols": null,
       "nrows": 22,
       "postfix": null,
       "prefix": "convnext_tiny_CosPGD",
       "rate": null,
       "total": 40,
       "unit": "batch",
       "unit_divisor": 1000,
       "unit_scale": false
      },
      "application/vnd.jupyter.widget-view+json": {
       "model_id": "cd0262dc59954d169e32dace4232483c",
       "version_major": 2,
       "version_minor": 0
      },
      "text/plain": [
       "convnext_tiny_CosPGD:   0%|          | 0/40 [00:00<?, ?batch/s]"
      ]
     },
     "metadata": {},
     "output_type": "display_data"
    },
    {
     "name": "stdout",
     "output_type": "stream",
     "text": [
      "- targeted  : clean_acc=0.8148 robust_acc=0.0002 sec=139.9976\n"
     ]
    },
    {
     "data": {
      "application/json": {
       "ascii": false,
       "bar_format": null,
       "colour": null,
       "elapsed": 0.0038862228393554688,
       "initial": 0,
       "n": 0,
       "ncols": null,
       "nrows": 22,
       "postfix": null,
       "prefix": "convnext_tiny_CosPGD_softmax",
       "rate": null,
       "total": 40,
       "unit": "batch",
       "unit_divisor": 1000,
       "unit_scale": false
      },
      "application/vnd.jupyter.widget-view+json": {
       "model_id": "16f9d6ceb9d145549ca28a8dd1c53b57",
       "version_major": 2,
       "version_minor": 0
      },
      "text/plain": [
       "convnext_tiny_CosPGD_softmax:   0%|          | 0/40 [00:00<?, ?batch/s]"
      ]
     },
     "metadata": {},
     "output_type": "display_data"
    },
    {
     "name": "stdout",
     "output_type": "stream",
     "text": [
      "CosPGD_softmax: clean_acc=0.8148 robust_acc=0.1258 sec=55.0348\n"
     ]
    },
    {
     "data": {
      "application/json": {
       "ascii": false,
       "bar_format": null,
       "colour": null,
       "elapsed": 0.0032761096954345703,
       "initial": 0,
       "n": 0,
       "ncols": null,
       "nrows": 22,
       "postfix": null,
       "prefix": "convnext_tiny_CosPGD_softmax",
       "rate": null,
       "total": 40,
       "unit": "batch",
       "unit_divisor": 1000,
       "unit_scale": false
      },
      "application/vnd.jupyter.widget-view+json": {
       "model_id": "0b32069c7f854851a6a11acd645b5bcf",
       "version_major": 2,
       "version_minor": 0
      },
      "text/plain": [
       "convnext_tiny_CosPGD_softmax:   0%|          | 0/40 [00:00<?, ?batch/s]"
      ]
     },
     "metadata": {},
     "output_type": "display_data"
    },
    {
     "name": "stdout",
     "output_type": "stream",
     "text": [
      "- targeted  : clean_acc=0.8148 robust_acc=0.6654 sec=140.0198\n"
     ]
    },
    {
     "data": {
      "application/json": {
       "ascii": false,
       "bar_format": null,
       "colour": null,
       "elapsed": 0.0038127899169921875,
       "initial": 0,
       "n": 0,
       "ncols": null,
       "nrows": 22,
       "postfix": null,
       "prefix": "convnext_tiny_EOTPGD",
       "rate": null,
       "total": 40,
       "unit": "batch",
       "unit_divisor": 1000,
       "unit_scale": false
      },
      "application/vnd.jupyter.widget-view+json": {
       "model_id": "e39fca0f57794ce4bc36d2bcbaf43a9e",
       "version_major": 2,
       "version_minor": 0
      },
      "text/plain": [
       "convnext_tiny_EOTPGD:   0%|          | 0/40 [00:00<?, ?batch/s]"
      ]
     },
     "metadata": {},
     "output_type": "display_data"
    },
    {
     "name": "stdout",
     "output_type": "stream",
     "text": [
      "EOTPGD      : clean_acc=0.8148 robust_acc=0.0098 sec=103.9321\n"
     ]
    },
    {
     "data": {
      "application/json": {
       "ascii": false,
       "bar_format": null,
       "colour": null,
       "elapsed": 0.0033304691314697266,
       "initial": 0,
       "n": 0,
       "ncols": null,
       "nrows": 22,
       "postfix": null,
       "prefix": "convnext_tiny_EOTPGD",
       "rate": null,
       "total": 40,
       "unit": "batch",
       "unit_divisor": 1000,
       "unit_scale": false
      },
      "application/vnd.jupyter.widget-view+json": {
       "model_id": "a2d318b211d34f01aed72b70d28fc9bd",
       "version_major": 2,
       "version_minor": 0
      },
      "text/plain": [
       "convnext_tiny_EOTPGD:   0%|          | 0/40 [00:00<?, ?batch/s]"
      ]
     },
     "metadata": {},
     "output_type": "display_data"
    },
    {
     "name": "stdout",
     "output_type": "stream",
     "text": [
      "- targeted  : clean_acc=0.8148 robust_acc=0.2598 sec=237.5333\n"
     ]
    },
    {
     "data": {
      "application/json": {
       "ascii": false,
       "bar_format": null,
       "colour": null,
       "elapsed": 0.003891468048095703,
       "initial": 0,
       "n": 0,
       "ncols": null,
       "nrows": 22,
       "postfix": null,
       "prefix": "convnext_tiny_FFGSM",
       "rate": null,
       "total": 40,
       "unit": "batch",
       "unit_divisor": 1000,
       "unit_scale": false
      },
      "application/vnd.jupyter.widget-view+json": {
       "model_id": "e8598410b9fe42d097efa70302fbdbf9",
       "version_major": 2,
       "version_minor": 0
      },
      "text/plain": [
       "convnext_tiny_FFGSM:   0%|          | 0/40 [00:00<?, ?batch/s]"
      ]
     },
     "metadata": {},
     "output_type": "display_data"
    },
    {
     "name": "stdout",
     "output_type": "stream",
     "text": [
      "FFGSM       : clean_acc=0.8148 robust_acc=0.3174 sec=10.7467\n"
     ]
    },
    {
     "data": {
      "application/json": {
       "ascii": false,
       "bar_format": null,
       "colour": null,
       "elapsed": 0.003331899642944336,
       "initial": 0,
       "n": 0,
       "ncols": null,
       "nrows": 22,
       "postfix": null,
       "prefix": "convnext_tiny_FFGSM",
       "rate": null,
       "total": 40,
       "unit": "batch",
       "unit_divisor": 1000,
       "unit_scale": false
      },
      "application/vnd.jupyter.widget-view+json": {
       "model_id": "9a6a629995784984a0f58776c313d983",
       "version_major": 2,
       "version_minor": 0
      },
      "text/plain": [
       "convnext_tiny_FFGSM:   0%|          | 0/40 [00:00<?, ?batch/s]"
      ]
     },
     "metadata": {},
     "output_type": "display_data"
    },
    {
     "name": "stdout",
     "output_type": "stream",
     "text": [
      "- targeted  : clean_acc=0.8148 robust_acc=0.4801 sec=50.7458\n"
     ]
    },
    {
     "data": {
      "application/json": {
       "ascii": false,
       "bar_format": null,
       "colour": null,
       "elapsed": 0.003966331481933594,
       "initial": 0,
       "n": 0,
       "ncols": null,
       "nrows": 22,
       "postfix": null,
       "prefix": "convnext_tiny_TPGD",
       "rate": null,
       "total": 40,
       "unit": "batch",
       "unit_divisor": 1000,
       "unit_scale": false
      },
      "application/vnd.jupyter.widget-view+json": {
       "model_id": "a3299117b76c4252a88ba4d1274e1c5a",
       "version_major": 2,
       "version_minor": 0
      },
      "text/plain": [
       "convnext_tiny_TPGD:   0%|          | 0/40 [00:00<?, ?batch/s]"
      ]
     },
     "metadata": {},
     "output_type": "display_data"
    },
    {
     "name": "stdout",
     "output_type": "stream",
     "text": [
      "TPGD        : clean_acc=0.8148 robust_acc=0.3322 sec=57.6089\n"
     ]
    },
    {
     "data": {
      "application/json": {
       "ascii": false,
       "bar_format": null,
       "colour": null,
       "elapsed": 0.008539915084838867,
       "initial": 0,
       "n": 0,
       "ncols": null,
       "nrows": 22,
       "postfix": null,
       "prefix": "convnext_tiny_MIFGSM",
       "rate": null,
       "total": 40,
       "unit": "batch",
       "unit_divisor": 1000,
       "unit_scale": false
      },
      "application/vnd.jupyter.widget-view+json": {
       "model_id": "e9e3eca9b6634a0bbd7047c42d7b8eba",
       "version_major": 2,
       "version_minor": 0
      },
      "text/plain": [
       "convnext_tiny_MIFGSM:   0%|          | 0/40 [00:00<?, ?batch/s]"
      ]
     },
     "metadata": {},
     "output_type": "display_data"
    },
    {
     "name": "stdout",
     "output_type": "stream",
     "text": [
      "MIFGSM      : clean_acc=0.8148 robust_acc=0.0000 sec=55.5994\n"
     ]
    },
    {
     "data": {
      "application/json": {
       "ascii": false,
       "bar_format": null,
       "colour": null,
       "elapsed": 0.0032777786254882812,
       "initial": 0,
       "n": 0,
       "ncols": null,
       "nrows": 22,
       "postfix": null,
       "prefix": "convnext_tiny_MIFGSM",
       "rate": null,
       "total": 40,
       "unit": "batch",
       "unit_divisor": 1000,
       "unit_scale": false
      },
      "application/vnd.jupyter.widget-view+json": {
       "model_id": "dd4e23f354c94796a63a8095e56bfc42",
       "version_major": 2,
       "version_minor": 0
      },
      "text/plain": [
       "convnext_tiny_MIFGSM:   0%|          | 0/40 [00:00<?, ?batch/s]"
      ]
     },
     "metadata": {},
     "output_type": "display_data"
    },
    {
     "name": "stdout",
     "output_type": "stream",
     "text": [
      "- targeted  : clean_acc=0.8148 robust_acc=0.0023 sec=140.4215\n"
     ]
    },
    {
     "data": {
      "application/json": {
       "ascii": false,
       "bar_format": null,
       "colour": null,
       "elapsed": 0.004391670227050781,
       "initial": 0,
       "n": 0,
       "ncols": null,
       "nrows": 22,
       "postfix": null,
       "prefix": "convnext_tiny_UPGD",
       "rate": null,
       "total": 40,
       "unit": "batch",
       "unit_divisor": 1000,
       "unit_scale": false
      },
      "application/vnd.jupyter.widget-view+json": {
       "model_id": "386aa980a38c40a8b6faa5146e06f633",
       "version_major": 2,
       "version_minor": 0
      },
      "text/plain": [
       "convnext_tiny_UPGD:   0%|          | 0/40 [00:00<?, ?batch/s]"
      ]
     },
     "metadata": {},
     "output_type": "display_data"
    },
    {
     "name": "stdout",
     "output_type": "stream",
     "text": [
      "UPGD        : clean_acc=0.8148 robust_acc=0.0000 sec=55.3579\n"
     ]
    },
    {
     "data": {
      "application/json": {
       "ascii": false,
       "bar_format": null,
       "colour": null,
       "elapsed": 0.003332376480102539,
       "initial": 0,
       "n": 0,
       "ncols": null,
       "nrows": 22,
       "postfix": null,
       "prefix": "convnext_tiny_UPGD",
       "rate": null,
       "total": 40,
       "unit": "batch",
       "unit_divisor": 1000,
       "unit_scale": false
      },
      "application/vnd.jupyter.widget-view+json": {
       "model_id": "d550b253dd1649e59a4f37f1b570d1ce",
       "version_major": 2,
       "version_minor": 0
      },
      "text/plain": [
       "convnext_tiny_UPGD:   0%|          | 0/40 [00:00<?, ?batch/s]"
      ]
     },
     "metadata": {},
     "output_type": "display_data"
    },
    {
     "name": "stdout",
     "output_type": "stream",
     "text": [
      "- targeted  : clean_acc=0.8148 robust_acc=0.0043 sec=140.6881\n"
     ]
    },
    {
     "data": {
      "application/json": {
       "ascii": false,
       "bar_format": null,
       "colour": null,
       "elapsed": 0.003710031509399414,
       "initial": 0,
       "n": 0,
       "ncols": null,
       "nrows": 22,
       "postfix": null,
       "prefix": "convnext_tiny_APGD",
       "rate": null,
       "total": 40,
       "unit": "batch",
       "unit_divisor": 1000,
       "unit_scale": false
      },
      "application/vnd.jupyter.widget-view+json": {
       "model_id": "3f4c3fee8f4244aba7c7f61abd3e0029",
       "version_major": 2,
       "version_minor": 0
      },
      "text/plain": [
       "convnext_tiny_APGD:   0%|          | 0/40 [00:00<?, ?batch/s]"
      ]
     },
     "metadata": {},
     "output_type": "display_data"
    },
    {
     "name": "stdout",
     "output_type": "stream",
     "text": [
      "APGD        : clean_acc=0.8148 robust_acc=0.0002 sec=56.7230\n"
     ]
    },
    {
     "data": {
      "application/json": {
       "ascii": false,
       "bar_format": null,
       "colour": null,
       "elapsed": 0.004004240036010742,
       "initial": 0,
       "n": 0,
       "ncols": null,
       "nrows": 22,
       "postfix": null,
       "prefix": "convnext_tiny_APGDT",
       "rate": null,
       "total": 40,
       "unit": "batch",
       "unit_divisor": 1000,
       "unit_scale": false
      },
      "application/vnd.jupyter.widget-view+json": {
       "model_id": "41858c96838f4183863b2df4bcd5459d",
       "version_major": 2,
       "version_minor": 0
      },
      "text/plain": [
       "convnext_tiny_APGDT:   0%|          | 0/40 [00:00<?, ?batch/s]"
      ]
     },
     "metadata": {},
     "output_type": "display_data"
    },
    {
     "name": "stdout",
     "output_type": "stream",
     "text": [
      "APGDT        occurs Error\n",
      "CUDA out of memory. Tried to allocate 130.00 MiB (GPU 0; 23.64 GiB total capacity; 22.19 GiB already allocated; 79.06 MiB free; 23.01 GiB reserved in total by PyTorch) If reserved memory is >> allocated memory try setting max_split_size_mb to avoid fragmentation.  See documentation for Memory Management and PYTORCH_CUDA_ALLOC_CONF\n"
     ]
    },
    {
     "data": {
      "application/json": {
       "ascii": false,
       "bar_format": null,
       "colour": null,
       "elapsed": 0.003912210464477539,
       "initial": 0,
       "n": 0,
       "ncols": null,
       "nrows": 22,
       "postfix": null,
       "prefix": "convnext_tiny_DIFGSM",
       "rate": null,
       "total": 40,
       "unit": "batch",
       "unit_divisor": 1000,
       "unit_scale": false
      },
      "application/vnd.jupyter.widget-view+json": {
       "model_id": "6f51ebc54b1c4e2e944fb4d05ee19401",
       "version_major": 2,
       "version_minor": 0
      },
      "text/plain": [
       "convnext_tiny_DIFGSM:   0%|          | 0/40 [00:00<?, ?batch/s]"
      ]
     },
     "metadata": {},
     "output_type": "display_data"
    },
    {
     "name": "stdout",
     "output_type": "stream",
     "text": [
      "DIFGSM      : clean_acc=0.8148 robust_acc=0.0633 sec=55.4727\n"
     ]
    },
    {
     "data": {
      "application/json": {
       "ascii": false,
       "bar_format": null,
       "colour": null,
       "elapsed": 0.003294229507446289,
       "initial": 0,
       "n": 0,
       "ncols": null,
       "nrows": 22,
       "postfix": null,
       "prefix": "convnext_tiny_DIFGSM",
       "rate": null,
       "total": 40,
       "unit": "batch",
       "unit_divisor": 1000,
       "unit_scale": false
      },
      "application/vnd.jupyter.widget-view+json": {
       "model_id": "f3fe254bfe72413b8a088e0c2bd01d18",
       "version_major": 2,
       "version_minor": 0
      },
      "text/plain": [
       "convnext_tiny_DIFGSM:   0%|          | 0/40 [00:00<?, ?batch/s]"
      ]
     },
     "metadata": {},
     "output_type": "display_data"
    },
    {
     "name": "stdout",
     "output_type": "stream",
     "text": [
      "- targeted  : clean_acc=0.8148 robust_acc=0.4109 sec=140.7293\n"
     ]
    },
    {
     "data": {
      "application/json": {
       "ascii": false,
       "bar_format": null,
       "colour": null,
       "elapsed": 0.003911495208740234,
       "initial": 0,
       "n": 0,
       "ncols": null,
       "nrows": 22,
       "postfix": null,
       "prefix": "convnext_tiny_TIFGSM",
       "rate": null,
       "total": 40,
       "unit": "batch",
       "unit_divisor": 1000,
       "unit_scale": false
      },
      "application/vnd.jupyter.widget-view+json": {
       "model_id": "4bb91c4c662b4665aa1237f408f5dedc",
       "version_major": 2,
       "version_minor": 0
      },
      "text/plain": [
       "convnext_tiny_TIFGSM:   0%|          | 0/40 [00:00<?, ?batch/s]"
      ]
     },
     "metadata": {},
     "output_type": "display_data"
    },
    {
     "name": "stdout",
     "output_type": "stream",
     "text": [
      "TIFGSM      : clean_acc=0.8148 robust_acc=0.2102 sec=56.3835\n"
     ]
    },
    {
     "data": {
      "application/json": {
       "ascii": false,
       "bar_format": null,
       "colour": null,
       "elapsed": 0.00373077392578125,
       "initial": 0,
       "n": 0,
       "ncols": null,
       "nrows": 22,
       "postfix": null,
       "prefix": "convnext_tiny_TIFGSM",
       "rate": null,
       "total": 40,
       "unit": "batch",
       "unit_divisor": 1000,
       "unit_scale": false
      },
      "application/vnd.jupyter.widget-view+json": {
       "model_id": "bcee2f0689e04d8f81452affc182e811",
       "version_major": 2,
       "version_minor": 0
      },
      "text/plain": [
       "convnext_tiny_TIFGSM:   0%|          | 0/40 [00:00<?, ?batch/s]"
      ]
     },
     "metadata": {},
     "output_type": "display_data"
    },
    {
     "name": "stdout",
     "output_type": "stream",
     "text": [
      "- targeted  : clean_acc=0.8148 robust_acc=0.6459 sec=142.5710\n"
     ]
    },
    {
     "data": {
      "application/json": {
       "ascii": false,
       "bar_format": null,
       "colour": null,
       "elapsed": 0.003972291946411133,
       "initial": 0,
       "n": 0,
       "ncols": null,
       "nrows": 22,
       "postfix": null,
       "prefix": "convnext_tiny_Jitter",
       "rate": null,
       "total": 40,
       "unit": "batch",
       "unit_divisor": 1000,
       "unit_scale": false
      },
      "application/vnd.jupyter.widget-view+json": {
       "model_id": "615f3fbdba5c4a05907b420f19d39a3e",
       "version_major": 2,
       "version_minor": 0
      },
      "text/plain": [
       "convnext_tiny_Jitter:   0%|          | 0/40 [00:00<?, ?batch/s]"
      ]
     },
     "metadata": {},
     "output_type": "display_data"
    },
    {
     "name": "stdout",
     "output_type": "stream",
     "text": [
      "Jitter      : clean_acc=0.8148 robust_acc=0.0256 sec=55.8918\n"
     ]
    },
    {
     "data": {
      "application/json": {
       "ascii": false,
       "bar_format": null,
       "colour": null,
       "elapsed": 0.003362894058227539,
       "initial": 0,
       "n": 0,
       "ncols": null,
       "nrows": 22,
       "postfix": null,
       "prefix": "convnext_tiny_Jitter",
       "rate": null,
       "total": 40,
       "unit": "batch",
       "unit_divisor": 1000,
       "unit_scale": false
      },
      "application/vnd.jupyter.widget-view+json": {
       "model_id": "87de5b9247564ebaa9d50145931681c5",
       "version_major": 2,
       "version_minor": 0
      },
      "text/plain": [
       "convnext_tiny_Jitter:   0%|          | 0/40 [00:00<?, ?batch/s]"
      ]
     },
     "metadata": {},
     "output_type": "display_data"
    },
    {
     "name": "stdout",
     "output_type": "stream",
     "text": [
      "- targeted  : clean_acc=0.8148 robust_acc=0.3260 sec=141.2696\n"
     ]
    },
    {
     "data": {
      "application/json": {
       "ascii": false,
       "bar_format": null,
       "colour": null,
       "elapsed": 0.0037674903869628906,
       "initial": 0,
       "n": 0,
       "ncols": null,
       "nrows": 22,
       "postfix": null,
       "prefix": "convnext_tiny_NIFGSM",
       "rate": null,
       "total": 40,
       "unit": "batch",
       "unit_divisor": 1000,
       "unit_scale": false
      },
      "application/vnd.jupyter.widget-view+json": {
       "model_id": "48070f76549b4fb48347a0429ea48960",
       "version_major": 2,
       "version_minor": 0
      },
      "text/plain": [
       "convnext_tiny_NIFGSM:   0%|          | 0/40 [00:00<?, ?batch/s]"
      ]
     },
     "metadata": {},
     "output_type": "display_data"
    },
    {
     "name": "stdout",
     "output_type": "stream",
     "text": [
      "NIFGSM      : clean_acc=0.8148 robust_acc=0.3152 sec=55.3828\n"
     ]
    },
    {
     "data": {
      "application/json": {
       "ascii": false,
       "bar_format": null,
       "colour": null,
       "elapsed": 0.0033655166625976562,
       "initial": 0,
       "n": 0,
       "ncols": null,
       "nrows": 22,
       "postfix": null,
       "prefix": "convnext_tiny_NIFGSM",
       "rate": null,
       "total": 40,
       "unit": "batch",
       "unit_divisor": 1000,
       "unit_scale": false
      },
      "application/vnd.jupyter.widget-view+json": {
       "model_id": "6c15df2e78b44e2883078c0b3838798c",
       "version_major": 2,
       "version_minor": 0
      },
      "text/plain": [
       "convnext_tiny_NIFGSM:   0%|          | 0/40 [00:00<?, ?batch/s]"
      ]
     },
     "metadata": {},
     "output_type": "display_data"
    },
    {
     "name": "stdout",
     "output_type": "stream",
     "text": [
      "- targeted  : clean_acc=0.8148 robust_acc=0.6609 sec=139.8601\n"
     ]
    },
    {
     "data": {
      "application/json": {
       "ascii": false,
       "bar_format": null,
       "colour": null,
       "elapsed": 0.0036690235137939453,
       "initial": 0,
       "n": 0,
       "ncols": null,
       "nrows": 22,
       "postfix": null,
       "prefix": "convnext_tiny_PGDRS",
       "rate": null,
       "total": 40,
       "unit": "batch",
       "unit_divisor": 1000,
       "unit_scale": false
      },
      "application/vnd.jupyter.widget-view+json": {
       "model_id": "d0f69a08d8cf4b79b8bb1022f39fbcf8",
       "version_major": 2,
       "version_minor": 0
      },
      "text/plain": [
       "convnext_tiny_PGDRS:   0%|          | 0/40 [00:00<?, ?batch/s]"
      ]
     },
     "metadata": {},
     "output_type": "display_data"
    },
    {
     "name": "stdout",
     "output_type": "stream",
     "text": [
      "PGDRS        occurs Error\n",
      "CUDA out of memory. Tried to allocate 2.87 GiB (GPU 0; 23.64 GiB total capacity; 22.38 GiB already allocated; 82.81 MiB free; 23.00 GiB reserved in total by PyTorch) If reserved memory is >> allocated memory try setting max_split_size_mb to avoid fragmentation.  See documentation for Memory Management and PYTORCH_CUDA_ALLOC_CONF\n"
     ]
    },
    {
     "data": {
      "application/json": {
       "ascii": false,
       "bar_format": null,
       "colour": null,
       "elapsed": 0.003935813903808594,
       "initial": 0,
       "n": 0,
       "ncols": null,
       "nrows": 22,
       "postfix": null,
       "prefix": "convnext_tiny_SINIFGSM",
       "rate": null,
       "total": 40,
       "unit": "batch",
       "unit_divisor": 1000,
       "unit_scale": false
      },
      "application/vnd.jupyter.widget-view+json": {
       "model_id": "cc4367ad54844b54b1ddc6af26304454",
       "version_major": 2,
       "version_minor": 0
      },
      "text/plain": [
       "convnext_tiny_SINIFGSM:   0%|          | 0/40 [00:00<?, ?batch/s]"
      ]
     },
     "metadata": {},
     "output_type": "display_data"
    },
    {
     "name": "stdout",
     "output_type": "stream",
     "text": [
      "SINIFGSM    : clean_acc=0.8148 robust_acc=0.3480 sec=251.4323\n"
     ]
    },
    {
     "data": {
      "application/json": {
       "ascii": false,
       "bar_format": null,
       "colour": null,
       "elapsed": 0.003470182418823242,
       "initial": 0,
       "n": 0,
       "ncols": null,
       "nrows": 22,
       "postfix": null,
       "prefix": "convnext_tiny_SINIFGSM",
       "rate": null,
       "total": 40,
       "unit": "batch",
       "unit_divisor": 1000,
       "unit_scale": false
      },
      "application/vnd.jupyter.widget-view+json": {
       "model_id": "1e23e30fac3f4886bfe454c94fed9e47",
       "version_major": 2,
       "version_minor": 0
      },
      "text/plain": [
       "convnext_tiny_SINIFGSM:   0%|          | 0/40 [00:00<?, ?batch/s]"
      ]
     },
     "metadata": {},
     "output_type": "display_data"
    },
    {
     "name": "stdout",
     "output_type": "stream",
     "text": [
      "- targeted  : clean_acc=0.8148 robust_acc=0.6621 sec=532.1589\n"
     ]
    },
    {
     "data": {
      "application/json": {
       "ascii": false,
       "bar_format": null,
       "colour": null,
       "elapsed": 0.0038328170776367188,
       "initial": 0,
       "n": 0,
       "ncols": null,
       "nrows": 22,
       "postfix": null,
       "prefix": "convnext_tiny_VMIFGSM",
       "rate": null,
       "total": 40,
       "unit": "batch",
       "unit_divisor": 1000,
       "unit_scale": false
      },
      "application/vnd.jupyter.widget-view+json": {
       "model_id": "9a862e599a524d548f07232ca7f6ffa6",
       "version_major": 2,
       "version_minor": 0
      },
      "text/plain": [
       "convnext_tiny_VMIFGSM:   0%|          | 0/40 [00:00<?, ?batch/s]"
      ]
     },
     "metadata": {},
     "output_type": "display_data"
    },
    {
     "name": "stdout",
     "output_type": "stream",
     "text": [
      "VMIFGSM     : clean_acc=0.8148 robust_acc=0.0000 sec=300.6647\n"
     ]
    },
    {
     "data": {
      "application/json": {
       "ascii": false,
       "bar_format": null,
       "colour": null,
       "elapsed": 0.0033261775970458984,
       "initial": 0,
       "n": 0,
       "ncols": null,
       "nrows": 22,
       "postfix": null,
       "prefix": "convnext_tiny_VMIFGSM",
       "rate": null,
       "total": 40,
       "unit": "batch",
       "unit_divisor": 1000,
       "unit_scale": false
      },
      "application/vnd.jupyter.widget-view+json": {
       "model_id": "b07d9b2067904f77aff562c014a623a2",
       "version_major": 2,
       "version_minor": 0
      },
      "text/plain": [
       "convnext_tiny_VMIFGSM:   0%|          | 0/40 [00:00<?, ?batch/s]"
      ]
     },
     "metadata": {},
     "output_type": "display_data"
    },
    {
     "name": "stdout",
     "output_type": "stream",
     "text": [
      "- targeted  : clean_acc=0.8148 robust_acc=0.0043 sec=630.5667\n"
     ]
    },
    {
     "data": {
      "application/json": {
       "ascii": false,
       "bar_format": null,
       "colour": null,
       "elapsed": 0.0038673877716064453,
       "initial": 0,
       "n": 0,
       "ncols": null,
       "nrows": 22,
       "postfix": null,
       "prefix": "convnext_tiny_VNIFGSM",
       "rate": null,
       "total": 40,
       "unit": "batch",
       "unit_divisor": 1000,
       "unit_scale": false
      },
      "application/vnd.jupyter.widget-view+json": {
       "model_id": "ea9f3d2ae3da4b049dc424bb4a8140a6",
       "version_major": 2,
       "version_minor": 0
      },
      "text/plain": [
       "convnext_tiny_VNIFGSM:   0%|          | 0/40 [00:00<?, ?batch/s]"
      ]
     },
     "metadata": {},
     "output_type": "display_data"
    },
    {
     "name": "stdout",
     "output_type": "stream",
     "text": [
      "VNIFGSM     : clean_acc=0.8148 robust_acc=0.0008 sec=300.8512\n"
     ]
    },
    {
     "data": {
      "application/json": {
       "ascii": false,
       "bar_format": null,
       "colour": null,
       "elapsed": 0.0033299922943115234,
       "initial": 0,
       "n": 0,
       "ncols": null,
       "nrows": 22,
       "postfix": null,
       "prefix": "convnext_tiny_VNIFGSM",
       "rate": null,
       "total": 40,
       "unit": "batch",
       "unit_divisor": 1000,
       "unit_scale": false
      },
      "application/vnd.jupyter.widget-view+json": {
       "model_id": "5b810634c1f84f29849a836459bc71ae",
       "version_major": 2,
       "version_minor": 0
      },
      "text/plain": [
       "convnext_tiny_VNIFGSM:   0%|          | 0/40 [00:00<?, ?batch/s]"
      ]
     },
     "metadata": {},
     "output_type": "display_data"
    },
    {
     "name": "stdout",
     "output_type": "stream",
     "text": [
      "- targeted  : clean_acc=0.8148 robust_acc=0.0615 sec=631.2215\n"
     ]
    },
    {
     "data": {
      "application/json": {
       "ascii": false,
       "bar_format": null,
       "colour": null,
       "elapsed": 0.003818511962890625,
       "initial": 0,
       "n": 0,
       "ncols": null,
       "nrows": 22,
       "postfix": null,
       "prefix": "convnext_tiny_SPSA",
       "rate": null,
       "total": 40,
       "unit": "batch",
       "unit_divisor": 1000,
       "unit_scale": false
      },
      "application/vnd.jupyter.widget-view+json": {
       "model_id": "3219909614b74bcdbd4f6a60e189958c",
       "version_major": 2,
       "version_minor": 0
      },
      "text/plain": [
       "convnext_tiny_SPSA:   0%|          | 0/40 [00:00<?, ?batch/s]"
      ]
     },
     "metadata": {},
     "output_type": "display_data"
    },
    {
     "name": "stdout",
     "output_type": "stream",
     "text": [
      "SPSA        : clean_acc=0.8148 robust_acc=0.7227 sec=731.2949\n"
     ]
    },
    {
     "data": {
      "application/json": {
       "ascii": false,
       "bar_format": null,
       "colour": null,
       "elapsed": 0.003239870071411133,
       "initial": 0,
       "n": 0,
       "ncols": null,
       "nrows": 22,
       "postfix": null,
       "prefix": "convnext_tiny_SPSA",
       "rate": null,
       "total": 40,
       "unit": "batch",
       "unit_divisor": 1000,
       "unit_scale": false
      },
      "application/vnd.jupyter.widget-view+json": {
       "model_id": "bad5902bd4ab442ba5cfa6f6062ebb6d",
       "version_major": 2,
       "version_minor": 0
      },
      "text/plain": [
       "convnext_tiny_SPSA:   0%|          | 0/40 [00:00<?, ?batch/s]"
      ]
     },
     "metadata": {},
     "output_type": "display_data"
    },
    {
     "name": "stdout",
     "output_type": "stream",
     "text": [
      "- targeted  : clean_acc=0.8148 robust_acc=0.8807 sec=1461.3532\n"
     ]
    },
    {
     "data": {
      "application/json": {
       "ascii": false,
       "bar_format": null,
       "colour": null,
       "elapsed": 0.003682374954223633,
       "initial": 0,
       "n": 0,
       "ncols": null,
       "nrows": 22,
       "postfix": null,
       "prefix": "convnext_tiny_JSMA",
       "rate": null,
       "total": 40,
       "unit": "batch",
       "unit_divisor": 1000,
       "unit_scale": false
      },
      "application/vnd.jupyter.widget-view+json": {
       "model_id": "4153aae6e8e54e408c299c86777f9ea6",
       "version_major": 2,
       "version_minor": 0
      },
      "text/plain": [
       "convnext_tiny_JSMA:   0%|          | 0/40 [00:00<?, ?batch/s]"
      ]
     },
     "metadata": {},
     "output_type": "display_data"
    },
    {
     "name": "stdout",
     "output_type": "stream",
     "text": [
      "JSMA         occurs Error\n",
      "CUDA out of memory. Tried to allocate 84.41 GiB (GPU 0; 23.64 GiB total capacity; 1.04 GiB already allocated; 21.33 GiB free; 1.75 GiB reserved in total by PyTorch) If reserved memory is >> allocated memory try setting max_split_size_mb to avoid fragmentation.  See documentation for Memory Management and PYTORCH_CUDA_ALLOC_CONF\n"
     ]
    },
    {
     "data": {
      "application/json": {
       "ascii": false,
       "bar_format": null,
       "colour": null,
       "elapsed": 0.0037415027618408203,
       "initial": 0,
       "n": 0,
       "ncols": null,
       "nrows": 22,
       "postfix": null,
       "prefix": "convnext_tiny_EADL1",
       "rate": null,
       "total": 40,
       "unit": "batch",
       "unit_divisor": 1000,
       "unit_scale": false
      },
      "application/vnd.jupyter.widget-view+json": {
       "model_id": "067784feca8c4677b42c30999f9af686",
       "version_major": 2,
       "version_minor": 0
      },
      "text/plain": [
       "convnext_tiny_EADL1:   0%|          | 0/40 [00:00<?, ?batch/s]"
      ]
     },
     "metadata": {},
     "output_type": "display_data"
    },
    {
     "name": "stdout",
     "output_type": "stream",
     "text": [
      "EADL1        occurs Error\n",
      "CUDA out of memory. Tried to allocate 148.00 MiB (GPU 0; 23.64 GiB total capacity; 22.86 GiB already allocated; 116.81 MiB free; 22.97 GiB reserved in total by PyTorch) If reserved memory is >> allocated memory try setting max_split_size_mb to avoid fragmentation.  See documentation for Memory Management and PYTORCH_CUDA_ALLOC_CONF\n"
     ]
    },
    {
     "data": {
      "application/json": {
       "ascii": false,
       "bar_format": null,
       "colour": null,
       "elapsed": 0.0039937496185302734,
       "initial": 0,
       "n": 0,
       "ncols": null,
       "nrows": 22,
       "postfix": null,
       "prefix": "convnext_tiny_EADEN",
       "rate": null,
       "total": 40,
       "unit": "batch",
       "unit_divisor": 1000,
       "unit_scale": false
      },
      "application/vnd.jupyter.widget-view+json": {
       "model_id": "87444c75e37845d3a282a34ec5f0703c",
       "version_major": 2,
       "version_minor": 0
      },
      "text/plain": [
       "convnext_tiny_EADEN:   0%|          | 0/40 [00:00<?, ?batch/s]"
      ]
     },
     "metadata": {},
     "output_type": "display_data"
    },
    {
     "name": "stdout",
     "output_type": "stream",
     "text": [
      "EADEN        occurs Error\n",
      "CUDA out of memory. Tried to allocate 148.00 MiB (GPU 0; 23.64 GiB total capacity; 22.86 GiB already allocated; 78.81 MiB free; 23.00 GiB reserved in total by PyTorch) If reserved memory is >> allocated memory try setting max_split_size_mb to avoid fragmentation.  See documentation for Memory Management and PYTORCH_CUDA_ALLOC_CONF\n"
     ]
    },
    {
     "data": {
      "application/json": {
       "ascii": false,
       "bar_format": null,
       "colour": null,
       "elapsed": 0.003809213638305664,
       "initial": 0,
       "n": 0,
       "ncols": null,
       "nrows": 22,
       "postfix": null,
       "prefix": "convnext_tiny_CW",
       "rate": null,
       "total": 40,
       "unit": "batch",
       "unit_divisor": 1000,
       "unit_scale": false
      },
      "application/vnd.jupyter.widget-view+json": {
       "model_id": "96154f29cda5486481f1d5b48265c679",
       "version_major": 2,
       "version_minor": 0
      },
      "text/plain": [
       "convnext_tiny_CW:   0%|          | 0/40 [00:00<?, ?batch/s]"
      ]
     },
     "metadata": {},
     "output_type": "display_data"
    },
    {
     "name": "stdout",
     "output_type": "stream",
     "text": [
      "CW          : clean_acc=0.8148 robust_acc=0.0000 sec=459.0034\n"
     ]
    },
    {
     "data": {
      "application/json": {
       "ascii": false,
       "bar_format": null,
       "colour": null,
       "elapsed": 0.003248929977416992,
       "initial": 0,
       "n": 0,
       "ncols": null,
       "nrows": 22,
       "postfix": null,
       "prefix": "convnext_tiny_CW",
       "rate": null,
       "total": 40,
       "unit": "batch",
       "unit_divisor": 1000,
       "unit_scale": false
      },
      "application/vnd.jupyter.widget-view+json": {
       "model_id": "692b5ff43734479b89267c2b0119b7b6",
       "version_major": 2,
       "version_minor": 0
      },
      "text/plain": [
       "convnext_tiny_CW:   0%|          | 0/40 [00:00<?, ?batch/s]"
      ]
     },
     "metadata": {},
     "output_type": "display_data"
    },
    {
     "name": "stdout",
     "output_type": "stream",
     "text": [
      "- targeted  : clean_acc=0.8148 robust_acc=0.1539 sec=1052.5946\n"
     ]
    },
    {
     "data": {
      "application/json": {
       "ascii": false,
       "bar_format": null,
       "colour": null,
       "elapsed": 0.007494926452636719,
       "initial": 0,
       "n": 0,
       "ncols": null,
       "nrows": 22,
       "postfix": null,
       "prefix": "convnext_tiny_PGDL2",
       "rate": null,
       "total": 40,
       "unit": "batch",
       "unit_divisor": 1000,
       "unit_scale": false
      },
      "application/vnd.jupyter.widget-view+json": {
       "model_id": "51469d0769ad4dc08f9fc0c424e2ceeb",
       "version_major": 2,
       "version_minor": 0
      },
      "text/plain": [
       "convnext_tiny_PGDL2:   0%|          | 0/40 [00:00<?, ?batch/s]"
      ]
     },
     "metadata": {},
     "output_type": "display_data"
    },
    {
     "name": "stdout",
     "output_type": "stream",
     "text": [
      "PGDL2       : clean_acc=0.8148 robust_acc=0.0070 sec=55.3150\n"
     ]
    },
    {
     "data": {
      "application/json": {
       "ascii": false,
       "bar_format": null,
       "colour": null,
       "elapsed": 0.003301858901977539,
       "initial": 0,
       "n": 0,
       "ncols": null,
       "nrows": 22,
       "postfix": null,
       "prefix": "convnext_tiny_PGDL2",
       "rate": null,
       "total": 40,
       "unit": "batch",
       "unit_divisor": 1000,
       "unit_scale": false
      },
      "application/vnd.jupyter.widget-view+json": {
       "model_id": "0772638b66a5483c8c98ae296db3af86",
       "version_major": 2,
       "version_minor": 0
      },
      "text/plain": [
       "convnext_tiny_PGDL2:   0%|          | 0/40 [00:00<?, ?batch/s]"
      ]
     },
     "metadata": {},
     "output_type": "display_data"
    },
    {
     "name": "stdout",
     "output_type": "stream",
     "text": [
      "- targeted  : clean_acc=0.8148 robust_acc=0.1631 sec=140.6575\n"
     ]
    },
    {
     "data": {
      "application/json": {
       "ascii": false,
       "bar_format": null,
       "colour": null,
       "elapsed": 0.003874540328979492,
       "initial": 0,
       "n": 0,
       "ncols": null,
       "nrows": 22,
       "postfix": null,
       "prefix": "convnext_tiny_DeepFool",
       "rate": null,
       "total": 40,
       "unit": "batch",
       "unit_divisor": 1000,
       "unit_scale": false
      },
      "application/vnd.jupyter.widget-view+json": {
       "model_id": "54f094600a944701adf9bd67a6081132",
       "version_major": 2,
       "version_minor": 0
      },
      "text/plain": [
       "convnext_tiny_DeepFool:   0%|          | 0/40 [00:00<?, ?batch/s]"
      ]
     },
     "metadata": {},
     "output_type": "display_data"
    }
   ],
   "source": [
    "print(\"*************************************              IMAGENET-1k              *************************************\")\n",
    "models = [\"convnext_tiny\", \"resnet50\", \"vit_small_patch16_224\", \"wide_resnet50_2\"]\n",
    "for model in models:\n",
    "    for atk_class in [atk_class for atk_class in torchattacks.__all__ if atk_class not in torchattacks.__wrapper__]:\n",
    "        test_atks_on_imagenet1k(atk_class=atk_class,\n",
    "                                device='cuda',\n",
    "                                model_dir='../demo/models/',\n",
    "                                data_dir='/home/prasse/Shashank_Projects/adversarial-attacks-pytorch/data',\n",
    "                                model=model)"
   ]
  },
  {
   "cell_type": "code",
   "execution_count": null,
   "id": "c3bf91a9",
   "metadata": {},
   "outputs": [],
   "source": [
    "print(\"*************************************              CIFAR-10              *************************************\")\n",
    "for atk_class in [atk_class for atk_class in torchattacks.__all__ if atk_class not in torchattacks.__wrapper__]:\n",
    "    test_atks_on_cifar10(atk_class=atk_class,\n",
    "                         device='cuda',\n",
    "                         model_dir='../demo/models/',\n",
    "                         data_dir='../demo/data/')"
   ]
  },
  {
   "cell_type": "code",
   "execution_count": null,
   "id": "17a65de7",
   "metadata": {},
   "outputs": [],
   "source": [
    "print(\"*************************************              CIFAR-100              *************************************\")\n",
    "for atk_class in [atk_class for atk_class in torchattacks.__all__ if atk_class not in torchattacks.__wrapper__]:\n",
    "    test_atks_on_cifar100(atk_class=atk_class,\n",
    "                         device='cuda',\n",
    "                         model_dir='../demo/models/',\n",
    "                         data_dir='../demo/data/')"
   ]
  },
  {
   "cell_type": "code",
   "execution_count": null,
   "id": "086977ef",
   "metadata": {},
   "outputs": [],
   "source": []
  }
 ],
 "metadata": {
  "kernelspec": {
   "display_name": "Python 3 (ipykernel)",
   "language": "python",
   "name": "python3"
  },
  "language_info": {
   "codemirror_mode": {
    "name": "ipython",
    "version": 3
   },
   "file_extension": ".py",
   "mimetype": "text/x-python",
   "name": "python",
   "nbconvert_exporter": "python",
   "pygments_lexer": "ipython3",
   "version": "3.11.3"
  }
 },
 "nbformat": 4,
 "nbformat_minor": 5
}
